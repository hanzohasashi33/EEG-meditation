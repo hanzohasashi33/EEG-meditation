{
 "cells": [
  {
   "cell_type": "code",
   "execution_count": 6,
   "metadata": {},
   "outputs": [],
   "source": [
    "import os \n",
    "import sys\n",
    "import glob\n",
    "import numpy as np\n",
    "import pandas as pd \n",
    "import mne\n",
    "import matplotlib"
   ]
  },
  {
   "cell_type": "code",
   "execution_count": 7,
   "metadata": {},
   "outputs": [],
   "source": [
    "matplotlib.use('Qt5Agg')"
   ]
  },
  {
   "cell_type": "code",
   "execution_count": 8,
   "metadata": {},
   "outputs": [],
   "source": [
    "variableNames = [\"EEG FP1\", \"EEG FP2\", \"EEG F7\", \"EEG F3\", \"EEG Fz\", \"EEG F4\", \"EEG F8\", \"EEG T3\", \"EEG C3\", \"EEG Cz\", \"EEG C4\", \"EEG T4\", \"EEG T5\", \"EEG P3\", \"EEG PZ\", \"EEG P4\", \"EEG T6\", \"EEG O1\", \"EEG O2\", \"EEG A1\", \"EEG A2\", \"SensorCEOG\", \"SensorDEOG\"]\n",
    "variableTypes = [\"double\", \"double\", \"double\", \"double\", \"double\", \"double\", \"double\", \"double\", \"double\", \"double\", \"double\", \"double\", \"double\", \"double\", \"double\", \"double\", \"double\", \"double\", \"double\", \"double\", \"double\", \"double\", \"double\"]\n",
    "\n",
    "initialCols = ['Fp1', 'Fp2', 'F7', 'F3', 'Fz', 'F4', 'F8', 'T3', 'C3', 'Cz', 'C4', 'T4', 'T5', 'P3', 'Pz', 'P4', 'T6', 'O1', 'O2', 'A1', 'A2', \"SensorCEOG\", \"SensorDEOG\", \"Events\"]\n",
    "\n",
    "columnNames = ['Fp1', 'Fp2', 'F7', 'F3', 'Fz', 'F4', 'F8', 'T3', 'C3', 'Cz', 'C4', 'T4', 'T5', 'P3', 'Pz', 'P4', 'T6', 'O1', 'O2', 'A1', 'A2', \"SensorCEOG\", \"SensorDEOG\"]\n",
    "varlistType = [\"eeg\", \"eeg\",\"eeg\",\"eeg\",\"eeg\",\"eeg\",\"eeg\",\"eeg\",\"eeg\",\"eeg\",\"eeg\",\"eeg\",\"eeg\",\"eeg\",\"eeg\",\"eeg\",\"eeg\",\"eeg\",\"eeg\",\"eeg\",\"eeg\",\"eog\", \"eog\"]\n",
    "\n",
    "eegFiles = glob.glob(\"C:/Users/PRASANNA/Desktop/sem9/eeg_project/eegdatafiles/*.txt\")"
   ]
  },
  {
   "cell_type": "code",
   "execution_count": 9,
   "metadata": {},
   "outputs": [
    {
     "data": {
      "text/html": [
       "<table class=\"table table-hover table-striped table-sm table-responsive small\">\n",
       "    <tr>\n",
       "        <th>Measurement date</th>\n",
       "        \n",
       "        <td>Unknown</td>\n",
       "        \n",
       "    </tr>\n",
       "    <tr>\n",
       "        <th>Experimenter</th>\n",
       "        \n",
       "        <td>Unknown</td>\n",
       "        \n",
       "    </tr>\n",
       "        <th>Participant</th>\n",
       "        \n",
       "        <td>Unknown</td>\n",
       "        \n",
       "    </tr>\n",
       "    <tr>\n",
       "        <th>Digitized points</th>\n",
       "        \n",
       "        <td>Not available</td>\n",
       "        \n",
       "    </tr>\n",
       "    <tr>\n",
       "        <th>Good channels</th>\n",
       "        <td>23 misc</td>\n",
       "    </tr>\n",
       "    <tr>\n",
       "        <th>Bad channels</th>\n",
       "        <td>None</td>\n",
       "    </tr>\n",
       "    <tr>\n",
       "        <th>EOG channels</th>\n",
       "        <td>Not available</td>\n",
       "    </tr>\n",
       "    <tr>\n",
       "        <th>ECG channels</th>\n",
       "        <td>Not available</td>\n",
       "    \n",
       "    <tr>\n",
       "        <th>Sampling frequency</th>\n",
       "        <td>256.00 Hz</td>\n",
       "    </tr>\n",
       "    \n",
       "    \n",
       "    <tr>\n",
       "        <th>Highpass</th>\n",
       "        <td>0.00 Hz</td>\n",
       "    </tr>\n",
       "    \n",
       "    \n",
       "    <tr>\n",
       "        <th>Lowpass</th>\n",
       "        <td>128.00 Hz</td>\n",
       "    </tr>\n",
       "    \n",
       "    \n",
       "</table>"
      ],
      "text/plain": [
       "<Info | 7 non-empty values\n",
       " bads: []\n",
       " ch_names: Fp1, Fp2, F7, F3, Fz, F4, F8, T3, C3, Cz, C4, T4, T5, P3, Pz, ...\n",
       " chs: 23 misc\n",
       " custom_ref_applied: False\n",
       " highpass: 0.0 Hz\n",
       " lowpass: 128.0 Hz\n",
       " meas_date: unspecified\n",
       " nchan: 23\n",
       " projs: []\n",
       " sfreq: 256.0 Hz\n",
       ">"
      ]
     },
     "execution_count": 9,
     "metadata": {},
     "output_type": "execute_result"
    }
   ],
   "source": [
    "# creating the MNE DS with sampling frequency of 256 hz\n",
    "sfreq = 256\n",
    "info = mne.create_info(ch_names=columnNames, sfreq=sfreq)\n",
    "info"
   ]
  },
  {
   "cell_type": "code",
   "execution_count": 10,
   "metadata": {},
   "outputs": [],
   "source": [
    "# for ind in range(0, len(eegFiles)):\n",
    "\n",
    "#     fileName = eegFiles[ind]\n",
    "#     raw = pd.read_csv(fileName,skiprows=0,encoding='latin1')\n",
    "#     raw.columns = initialCols\n",
    "\n",
    "#     trig = raw[\"Events\"]\n",
    "#     trig_names = trig[~np.isnan(trig)]\n",
    "#     print(trig_names)\n"
   ]
  },
  {
   "cell_type": "code",
   "execution_count": 12,
   "metadata": {},
   "outputs": [
    {
     "name": "stdout",
     "output_type": "stream",
     "text": [
      "Series([], Name: Events, dtype: float64)\n",
      "(1243136, 23)\n",
      "Creating RawArray with float64 data, n_channels=23, n_times=1243136\n",
      "    Range : 0 ... 1243135 =      0.000 ...  4855.996 secs\n",
      "Ready.\n",
      "Filtering raw data in 1 contiguous segment\n",
      "Setting up band-pass filter from 1 - 40 Hz\n",
      "\n",
      "FIR filter parameters\n",
      "---------------------\n",
      "Designing a one-pass, zero-phase, non-causal bandpass filter:\n",
      "- Windowed time-domain design (firwin) method\n",
      "- Hamming window with 0.0194 passband ripple and 53 dB stopband attenuation\n",
      "- Lower passband edge: 1.00\n",
      "- Lower transition bandwidth: 1.00 Hz (-6 dB cutoff frequency: 0.50 Hz)\n",
      "- Upper passband edge: 40.00 Hz\n",
      "- Upper transition bandwidth: 10.00 Hz (-6 dB cutoff frequency: 45.00 Hz)\n",
      "- Filter length: 845 samples (3.301 s)\n",
      "\n"
     ]
    },
    {
     "name": "stderr",
     "output_type": "stream",
     "text": [
      "C:\\Users\\PRASANNA\\AppData\\Local\\Temp/ipykernel_17004/1159441439.py:24: RuntimeWarning: The unit for channel(s) A1, A2, C3, C4, Cz, F3, F4, F7, F8, Fp1, Fp2, Fz, O1, O2, P3, P4, Pz, SensorCEOG, SensorDEOG, T3, T4, T5, T6 has changed from NA to V.\n",
      "  raw.set_channel_types(dict(zip(columnNames, varlistType)))\n",
      "[Parallel(n_jobs=1)]: Using backend SequentialBackend with 1 concurrent workers.\n",
      "[Parallel(n_jobs=1)]: Done   1 out of   1 | elapsed:    0.0s remaining:    0.0s\n",
      "[Parallel(n_jobs=1)]: Done   2 out of   2 | elapsed:    0.0s remaining:    0.0s\n",
      "[Parallel(n_jobs=1)]: Done   3 out of   3 | elapsed:    0.1s remaining:    0.0s\n",
      "[Parallel(n_jobs=1)]: Done   4 out of   4 | elapsed:    0.1s remaining:    0.0s\n",
      "[Parallel(n_jobs=1)]: Done  23 out of  23 | elapsed:    1.2s finished\n"
     ]
    }
   ],
   "source": [
    "ind = 0\n",
    "fileName = eegFiles[ind]\n",
    "raw = pd.read_csv(fileName,skiprows=0,encoding='latin1')\n",
    "# raw.columns = [\"EEG FP1\", \"EEG FP2\", \"EEG F7\", \"EEG F3\", \"EEG Fz\", \"EEG F4\", \"EEG F8\", \"EEG T3\", \"EEG C3\", \"EEG Cz\", \"EEG C4\", \"EEG T4\", \"EEG T5\", \"EEG P3\", \"EEG PZ\", \"EEG P4\", \"EEG T6\", \"EEG O1\", \"EEG O2\", \"EEG A1\", \"EEG A2\", \"SensorCEOG\", \"SensorDEOG\", \"Events\"]\n",
    "raw.columns = initialCols\n",
    "\n",
    "# get the trigger names and times if any\n",
    "trig = raw[\"Events\"]\n",
    "trig_names = trig[~np.isnan(trig)]\n",
    "print(trig_names)\n",
    "\n",
    "# exclude events column from the dataframe\n",
    "raw = raw.drop([\"Events\"], axis=1)\n",
    "\n",
    "# get rid of nans if any (normally the last samples)\n",
    "raw = raw.dropna()\n",
    "\n",
    "print(raw.shape)\n",
    "\n",
    "# converting raw data frame data into MNE raw data\n",
    "raw = mne.io.RawArray(raw.T, info)\n",
    "\n",
    "# setting correct channel types\n",
    "raw.set_channel_types(dict(zip(columnNames, varlistType)))\n",
    "\n",
    "\n",
    "# adding the FIR and hamming window filter\n",
    "low_freq, high_freq = 1.0, 40.0 # values in Hz\n",
    "raw = raw.filter(low_freq, high_freq, picks=\"all\")\n",
    "\n",
    "# plot the EEG signals \n",
    "# raw.plot(block=True)"
   ]
  },
  {
   "cell_type": "code",
   "execution_count": null,
   "metadata": {},
   "outputs": [
    {
     "data": {
      "text/html": [
       "<table class=\"table table-hover table-striped table-sm table-responsive small\">\n",
       "    <tr>\n",
       "        <th>Measurement date</th>\n",
       "        \n",
       "        <td>Unknown</td>\n",
       "        \n",
       "    </tr>\n",
       "    <tr>\n",
       "        <th>Experimenter</th>\n",
       "        \n",
       "        <td>Unknown</td>\n",
       "        \n",
       "    </tr>\n",
       "        <th>Participant</th>\n",
       "        \n",
       "        <td>Unknown</td>\n",
       "        \n",
       "    </tr>\n",
       "    <tr>\n",
       "        <th>Digitized points</th>\n",
       "        \n",
       "        <td>24 points</td>\n",
       "        \n",
       "    </tr>\n",
       "    <tr>\n",
       "        <th>Good channels</th>\n",
       "        <td>21 EEG, 2 EOG</td>\n",
       "    </tr>\n",
       "    <tr>\n",
       "        <th>Bad channels</th>\n",
       "        <td>None</td>\n",
       "    </tr>\n",
       "    <tr>\n",
       "        <th>EOG channels</th>\n",
       "        <td>SensorCEOG, SensorDEOG</td>\n",
       "    </tr>\n",
       "    <tr>\n",
       "        <th>ECG channels</th>\n",
       "        <td>Not available</td>\n",
       "    \n",
       "    <tr>\n",
       "        <th>Sampling frequency</th>\n",
       "        <td>256.00 Hz</td>\n",
       "    </tr>\n",
       "    \n",
       "    \n",
       "    <tr>\n",
       "        <th>Highpass</th>\n",
       "        <td>1.00 Hz</td>\n",
       "    </tr>\n",
       "    \n",
       "    \n",
       "    <tr>\n",
       "        <th>Lowpass</th>\n",
       "        <td>40.00 Hz</td>\n",
       "    </tr>\n",
       "    \n",
       "    \n",
       "    \n",
       "    <tr>\n",
       "        <th>Duration</th>\n",
       "        <td>01:20:56 (HH:MM:SS)</td>\n",
       "    </tr>\n",
       "</table>"
      ],
      "text/plain": [
       "<RawArray | 23 x 1243136 (4856.0 s), ~218.2 MB, data loaded>"
      ]
     },
     "execution_count": 7,
     "metadata": {},
     "output_type": "execute_result"
    }
   ],
   "source": [
    "# mne.channels.get_builtin_montages()\n",
    "# montage = mne.channels.read_custom_montage(\"./eeglocs.csv\", head_size=0.095, coord_frame=None)\n",
    "# mne.viz.plot_montage(montage)\n",
    "\n",
    "mont1020 = mne.channels.make_standard_montage('standard_1020')\n",
    "# Choose what channels you want to keep \n",
    "# Make sure that these channels exist e.g. T1 does not exist in the standard 10-20 EEG system!\n",
    "kept_channels = ['Fp1', 'Fp2', 'F7', 'F3', 'Fz', 'F4', 'F8', 'T3', 'C3', 'Cz', 'C4', 'T4', 'T5', 'P3', 'Pz', 'P4', 'T6', 'O1', 'O2', 'A1', 'A2']\n",
    "ind = [i for (i, channel) in enumerate(mont1020.ch_names) if channel in kept_channels]\n",
    "mont1020_new = mont1020.copy()\n",
    "# Keep only the desired channels\n",
    "mont1020_new.ch_names = [mont1020.ch_names[x] for x in ind]\n",
    "kept_channel_info = [mont1020.dig[x+3] for x in ind]\n",
    "# Keep the first three rows as they are the fiducial points information\n",
    "mont1020_new.dig = mont1020.dig[0:3]+kept_channel_info\n",
    "mont1020_new.plot()\n",
    "raw.set_montage(mont1020_new)"
   ]
  },
  {
   "cell_type": "code",
   "execution_count": 7,
   "metadata": {},
   "outputs": [
    {
     "name": "stdout",
     "output_type": "stream",
     "text": [
      "Fitting ICA to data using 21 channels (please be patient, this may take a while)\n",
      "Selecting by non-zero PCA components: 20 components\n",
      "Fitting ICA took 56.4s.\n"
     ]
    },
    {
     "data": {
      "text/html": [
       "<table class=\"table table-hover table-striped table-sm table-responsive small\">\n",
       "    <tr>\n",
       "        <th>Method</th>\n",
       "        <td>fastica</td>\n",
       "    </tr>\n",
       "    <tr>\n",
       "        <th>Fit</th>\n",
       "        <td>48 iterations on raw data (1243136 samples)</td>\n",
       "    </tr>\n",
       "    \n",
       "    <tr>\n",
       "        <th>ICA components</th>\n",
       "        <td>20</td>\n",
       "    </tr>\n",
       "    <tr>\n",
       "        <th>Available PCA components</th>\n",
       "        <td>21</td>\n",
       "    </tr>\n",
       "    <tr>\n",
       "        <th>Channel types</th>\n",
       "        <td>eeg</td>\n",
       "    </tr>\n",
       "    <tr>\n",
       "        <th>ICA components marked for exclusion</th>\n",
       "        <td>&mdash;</td>\n",
       "    </tr>\n",
       "    \n",
       "</table>"
      ],
      "text/plain": [
       "<ICA | raw data decomposition, method: fastica (fit in 48 iterations on 1243136 samples), 20 ICA components (21 PCA components available), channel types: eeg, no sources marked for exclusion>"
      ]
     },
     "execution_count": 7,
     "metadata": {},
     "output_type": "execute_result"
    }
   ],
   "source": [
    "# performing ICA\n",
    "ica = mne.preprocessing.ICA()\n",
    "ica.fit(raw)"
   ]
  },
  {
   "cell_type": "code",
   "execution_count": 9,
   "metadata": {},
   "outputs": [
    {
     "data": {
      "text/plain": [
       "<MNEFigure size 1218.75x1055 with 20 Axes>"
      ]
     },
     "execution_count": 9,
     "metadata": {},
     "output_type": "execute_result"
    }
   ],
   "source": [
    "ica.plot_components()"
   ]
  },
  {
   "cell_type": "code",
   "execution_count": 9,
   "metadata": {},
   "outputs": [
    {
     "name": "stderr",
     "output_type": "stream",
     "text": [
      "C:\\Users\\PRASANNA\\AppData\\Local\\Temp/ipykernel_21360/3386525049.py:3: RuntimeWarning: The provided Raw instance does not seem to be referenced to a common average reference (CAR). ICLabel was designed to classify features extracted from an EEG dataset referenced to a CAR (see the 'set_eeg_reference()' method for Raw and Epochs instances).\n",
      "  label_components(raw, ica, method='iclabel')\n",
      "C:\\Users\\PRASANNA\\AppData\\Local\\Temp/ipykernel_21360/3386525049.py:3: RuntimeWarning: The provided Raw instance is not filtered between 1 and 100 Hz. ICLabel was designed to classify features extracted from an EEG dataset bandpass filtered between 1 and 100 Hz (see the 'filter()' method for Raw and Epochs instances).\n",
      "  label_components(raw, ica, method='iclabel')\n",
      "C:\\Users\\PRASANNA\\AppData\\Local\\Temp/ipykernel_21360/3386525049.py:3: RuntimeWarning: The provided ICA instance was fitted with a 'fastica' algorithm. ICLabel was designed with extended infomax ICA decompositions. To use the extended infomax algorithm, use the 'mne.preprocessing.ICA' instance with the arguments 'ICA(method='infomax', fit_params=dict(extended=True))' (scikit-learn) or 'ICA(method='picard', fit_params=dict(ortho=False, extended=True))' (python-picard).\n",
      "  label_components(raw, ica, method='iclabel')\n"
     ]
    },
    {
     "name": "stdout",
     "output_type": "stream",
     "text": [
      "NOTE: pick_channels() is a legacy function. New code should use inst.pick(...).\n"
     ]
    },
    {
     "ename": "AttributeError",
     "evalue": "'NoneType' object has no attribute 'get_positions'",
     "output_type": "error",
     "traceback": [
      "\u001b[1;31m---------------------------------------------------------------------------\u001b[0m",
      "\u001b[1;31mAttributeError\u001b[0m                            Traceback (most recent call last)",
      "\u001b[1;32m~\\AppData\\Local\\Temp/ipykernel_21360/3386525049.py\u001b[0m in \u001b[0;36m<module>\u001b[1;34m\u001b[0m\n\u001b[0;32m      1\u001b[0m \u001b[1;32mfrom\u001b[0m \u001b[0mmne_icalabel\u001b[0m \u001b[1;32mimport\u001b[0m \u001b[0mlabel_components\u001b[0m\u001b[1;33m\u001b[0m\u001b[1;33m\u001b[0m\u001b[0m\n\u001b[0;32m      2\u001b[0m \u001b[1;33m\u001b[0m\u001b[0m\n\u001b[1;32m----> 3\u001b[1;33m \u001b[0mlabel_components\u001b[0m\u001b[1;33m(\u001b[0m\u001b[0mraw\u001b[0m\u001b[1;33m,\u001b[0m \u001b[0mica\u001b[0m\u001b[1;33m,\u001b[0m \u001b[0mmethod\u001b[0m\u001b[1;33m=\u001b[0m\u001b[1;34m'iclabel'\u001b[0m\u001b[1;33m)\u001b[0m\u001b[1;33m\u001b[0m\u001b[1;33m\u001b[0m\u001b[0m\n\u001b[0m",
      "\u001b[1;32mc:\\Python310\\lib\\site-packages\\mne_icalabel\\label_components.py\u001b[0m in \u001b[0;36mlabel_components\u001b[1;34m(inst, ica, method)\u001b[0m\n\u001b[0;32m     48\u001b[0m \u001b[1;33m\u001b[0m\u001b[0m\n\u001b[0;32m     49\u001b[0m     \u001b[0m_validate_inst_and_ica\u001b[0m\u001b[1;33m(\u001b[0m\u001b[0minst\u001b[0m\u001b[1;33m,\u001b[0m \u001b[0mica\u001b[0m\u001b[1;33m)\u001b[0m\u001b[1;33m\u001b[0m\u001b[1;33m\u001b[0m\u001b[0m\n\u001b[1;32m---> 50\u001b[1;33m     \u001b[0mlabels_pred_proba\u001b[0m \u001b[1;33m=\u001b[0m \u001b[0mICALABEL_METHODS\u001b[0m\u001b[1;33m[\u001b[0m\u001b[0mmethod\u001b[0m\u001b[1;33m]\u001b[0m\u001b[1;33m(\u001b[0m\u001b[0minst\u001b[0m\u001b[1;33m,\u001b[0m \u001b[0mica\u001b[0m\u001b[1;33m)\u001b[0m  \u001b[1;31m# type: ignore\u001b[0m\u001b[1;33m\u001b[0m\u001b[1;33m\u001b[0m\u001b[0m\n\u001b[0m\u001b[0;32m     51\u001b[0m     \u001b[0mlabels_pred\u001b[0m \u001b[1;33m=\u001b[0m \u001b[0mnp\u001b[0m\u001b[1;33m.\u001b[0m\u001b[0margmax\u001b[0m\u001b[1;33m(\u001b[0m\u001b[0mlabels_pred_proba\u001b[0m\u001b[1;33m,\u001b[0m \u001b[0maxis\u001b[0m\u001b[1;33m=\u001b[0m\u001b[1;36m1\u001b[0m\u001b[1;33m)\u001b[0m\u001b[1;33m\u001b[0m\u001b[1;33m\u001b[0m\u001b[0m\n\u001b[0;32m     52\u001b[0m     \u001b[0mlabels\u001b[0m \u001b[1;33m=\u001b[0m \u001b[1;33m[\u001b[0m\u001b[0mICLABEL_NUMERICAL_TO_STRING\u001b[0m\u001b[1;33m[\u001b[0m\u001b[0mlabel\u001b[0m\u001b[1;33m]\u001b[0m \u001b[1;32mfor\u001b[0m \u001b[0mlabel\u001b[0m \u001b[1;32min\u001b[0m \u001b[0mlabels_pred\u001b[0m\u001b[1;33m]\u001b[0m\u001b[1;33m\u001b[0m\u001b[1;33m\u001b[0m\u001b[0m\n",
      "\u001b[1;32mc:\\Python310\\lib\\site-packages\\mne_icalabel\\iclabel\\label_components.py\u001b[0m in \u001b[0;36miclabel_label_components\u001b[1;34m(inst, ica, inplace)\u001b[0m\n\u001b[0;32m     55\u001b[0m     \u001b[1;33m.\u001b[0m\u001b[1;33m.\u001b[0m \u001b[0mfootbibliography\u001b[0m\u001b[1;33m:\u001b[0m\u001b[1;33m:\u001b[0m\u001b[1;33m\u001b[0m\u001b[1;33m\u001b[0m\u001b[0m\n\u001b[0;32m     56\u001b[0m     \"\"\"\n\u001b[1;32m---> 57\u001b[1;33m     \u001b[0mfeatures\u001b[0m \u001b[1;33m=\u001b[0m \u001b[0mget_iclabel_features\u001b[0m\u001b[1;33m(\u001b[0m\u001b[0minst\u001b[0m\u001b[1;33m,\u001b[0m \u001b[0mica\u001b[0m\u001b[1;33m)\u001b[0m\u001b[1;33m\u001b[0m\u001b[1;33m\u001b[0m\u001b[0m\n\u001b[0m\u001b[0;32m     58\u001b[0m     \u001b[0mlabels_pred_proba\u001b[0m \u001b[1;33m=\u001b[0m \u001b[0mrun_iclabel\u001b[0m\u001b[1;33m(\u001b[0m\u001b[1;33m*\u001b[0m\u001b[0mfeatures\u001b[0m\u001b[1;33m)\u001b[0m\u001b[1;33m\u001b[0m\u001b[1;33m\u001b[0m\u001b[0m\n\u001b[0;32m     59\u001b[0m \u001b[1;33m\u001b[0m\u001b[0m\n",
      "\u001b[1;32mc:\\Python310\\lib\\site-packages\\mne_icalabel\\iclabel\\features.py\u001b[0m in \u001b[0;36mget_iclabel_features\u001b[1;34m(inst, ica)\u001b[0m\n\u001b[0;32m     77\u001b[0m \u001b[1;33m\u001b[0m\u001b[0m\n\u001b[0;32m     78\u001b[0m     \u001b[1;31m# compute topographic feature (float32)\u001b[0m\u001b[1;33m\u001b[0m\u001b[1;33m\u001b[0m\u001b[0m\n\u001b[1;32m---> 79\u001b[1;33m     \u001b[0mtopo\u001b[0m \u001b[1;33m=\u001b[0m \u001b[0m_eeg_topoplot\u001b[0m\u001b[1;33m(\u001b[0m\u001b[0minst\u001b[0m\u001b[1;33m,\u001b[0m \u001b[0micawinv\u001b[0m\u001b[1;33m,\u001b[0m \u001b[0mica\u001b[0m\u001b[1;33m.\u001b[0m\u001b[0mch_names\u001b[0m\u001b[1;33m)\u001b[0m\u001b[1;33m\u001b[0m\u001b[1;33m\u001b[0m\u001b[0m\n\u001b[0m\u001b[0;32m     80\u001b[0m \u001b[1;33m\u001b[0m\u001b[0m\n\u001b[0;32m     81\u001b[0m     \u001b[1;31m# compute psd feature (float32)\u001b[0m\u001b[1;33m\u001b[0m\u001b[1;33m\u001b[0m\u001b[0m\n",
      "\u001b[1;32mc:\\Python310\\lib\\site-packages\\mne_icalabel\\iclabel\\features.py\u001b[0m in \u001b[0;36m_eeg_topoplot\u001b[1;34m(inst, icawinv, picks)\u001b[0m\n\u001b[0;32m    175\u001b[0m     \u001b[0mncomp\u001b[0m \u001b[1;33m=\u001b[0m \u001b[0micawinv\u001b[0m\u001b[1;33m.\u001b[0m\u001b[0mshape\u001b[0m\u001b[1;33m[\u001b[0m\u001b[1;33m-\u001b[0m\u001b[1;36m1\u001b[0m\u001b[1;33m]\u001b[0m\u001b[1;33m\u001b[0m\u001b[1;33m\u001b[0m\u001b[0m\n\u001b[0;32m    176\u001b[0m     \u001b[0mtopo\u001b[0m \u001b[1;33m=\u001b[0m \u001b[0mnp\u001b[0m\u001b[1;33m.\u001b[0m\u001b[0mzeros\u001b[0m\u001b[1;33m(\u001b[0m\u001b[1;33m(\u001b[0m\u001b[1;36m32\u001b[0m\u001b[1;33m,\u001b[0m \u001b[1;36m32\u001b[0m\u001b[1;33m,\u001b[0m \u001b[1;36m1\u001b[0m\u001b[1;33m,\u001b[0m \u001b[0mncomp\u001b[0m\u001b[1;33m)\u001b[0m\u001b[1;33m)\u001b[0m\u001b[1;33m\u001b[0m\u001b[1;33m\u001b[0m\u001b[0m\n\u001b[1;32m--> 177\u001b[1;33m     \u001b[0mrd\u001b[0m\u001b[1;33m,\u001b[0m \u001b[0mth\u001b[0m \u001b[1;33m=\u001b[0m \u001b[0m_mne_to_eeglab_locs\u001b[0m\u001b[1;33m(\u001b[0m\u001b[0minst\u001b[0m\u001b[1;33m,\u001b[0m \u001b[0mpicks\u001b[0m\u001b[1;33m)\u001b[0m\u001b[1;33m\u001b[0m\u001b[1;33m\u001b[0m\u001b[0m\n\u001b[0m\u001b[0;32m    178\u001b[0m     \u001b[0mth\u001b[0m \u001b[1;33m=\u001b[0m \u001b[0mnp\u001b[0m\u001b[1;33m.\u001b[0m\u001b[0mpi\u001b[0m \u001b[1;33m/\u001b[0m \u001b[1;36m180\u001b[0m \u001b[1;33m*\u001b[0m \u001b[0mth\u001b[0m  \u001b[1;31m# convert degrees to radians\u001b[0m\u001b[1;33m\u001b[0m\u001b[1;33m\u001b[0m\u001b[0m\n\u001b[0;32m    179\u001b[0m     \u001b[1;32mfor\u001b[0m \u001b[0mit\u001b[0m \u001b[1;32min\u001b[0m \u001b[0mrange\u001b[0m\u001b[1;33m(\u001b[0m\u001b[0mncomp\u001b[0m\u001b[1;33m)\u001b[0m\u001b[1;33m:\u001b[0m\u001b[1;33m\u001b[0m\u001b[1;33m\u001b[0m\u001b[0m\n",
      "\u001b[1;32mc:\\Python310\\lib\\site-packages\\mne_icalabel\\iclabel\\utils.py\u001b[0m in \u001b[0;36m_mne_to_eeglab_locs\u001b[1;34m(raw, picks)\u001b[0m\n\u001b[0;32m     49\u001b[0m     \u001b[1;31m# get the channel position dictionary\u001b[0m\u001b[1;33m\u001b[0m\u001b[1;33m\u001b[0m\u001b[0m\n\u001b[0;32m     50\u001b[0m     \u001b[0mmontage\u001b[0m \u001b[1;33m=\u001b[0m \u001b[0mraw\u001b[0m\u001b[1;33m.\u001b[0m\u001b[0mcopy\u001b[0m\u001b[1;33m(\u001b[0m\u001b[1;33m)\u001b[0m\u001b[1;33m.\u001b[0m\u001b[0mpick_channels\u001b[0m\u001b[1;33m(\u001b[0m\u001b[0mpicks\u001b[0m\u001b[1;33m,\u001b[0m \u001b[0mordered\u001b[0m\u001b[1;33m=\u001b[0m\u001b[1;32mTrue\u001b[0m\u001b[1;33m)\u001b[0m\u001b[1;33m.\u001b[0m\u001b[0mget_montage\u001b[0m\u001b[1;33m(\u001b[0m\u001b[1;33m)\u001b[0m\u001b[1;33m\u001b[0m\u001b[1;33m\u001b[0m\u001b[0m\n\u001b[1;32m---> 51\u001b[1;33m     \u001b[0mpositions\u001b[0m \u001b[1;33m=\u001b[0m \u001b[0mmontage\u001b[0m\u001b[1;33m.\u001b[0m\u001b[0mget_positions\u001b[0m\u001b[1;33m(\u001b[0m\u001b[1;33m)\u001b[0m\u001b[1;33m\u001b[0m\u001b[1;33m\u001b[0m\u001b[0m\n\u001b[0m\u001b[0;32m     52\u001b[0m     \u001b[0mch_pos\u001b[0m \u001b[1;33m=\u001b[0m \u001b[0mpositions\u001b[0m\u001b[1;33m[\u001b[0m\u001b[1;34m\"ch_pos\"\u001b[0m\u001b[1;33m]\u001b[0m\u001b[1;33m\u001b[0m\u001b[1;33m\u001b[0m\u001b[0m\n\u001b[0;32m     53\u001b[0m \u001b[1;33m\u001b[0m\u001b[0m\n",
      "\u001b[1;31mAttributeError\u001b[0m: 'NoneType' object has no attribute 'get_positions'"
     ]
    }
   ],
   "source": [
    "from mne_icalabel import label_components\n",
    "\n",
    "label_components(raw, ica, method='iclabel')"
   ]
  },
  {
   "cell_type": "code",
   "execution_count": 13,
   "metadata": {},
   "outputs": [
    {
     "data": {
      "text/html": [
       "<table class=\"table table-hover table-striped table-sm table-responsive small\">\n",
       "    <tr>\n",
       "        <th>Measurement date</th>\n",
       "        \n",
       "        <td>Unknown</td>\n",
       "        \n",
       "    </tr>\n",
       "    <tr>\n",
       "        <th>Experimenter</th>\n",
       "        \n",
       "        <td>Unknown</td>\n",
       "        \n",
       "    </tr>\n",
       "        <th>Participant</th>\n",
       "        \n",
       "        <td>Unknown</td>\n",
       "        \n",
       "    </tr>\n",
       "    <tr>\n",
       "        <th>Digitized points</th>\n",
       "        \n",
       "        <td>Not available</td>\n",
       "        \n",
       "    </tr>\n",
       "    <tr>\n",
       "        <th>Good channels</th>\n",
       "        <td>21 EEG, 2 EOG</td>\n",
       "    </tr>\n",
       "    <tr>\n",
       "        <th>Bad channels</th>\n",
       "        <td>None</td>\n",
       "    </tr>\n",
       "    <tr>\n",
       "        <th>EOG channels</th>\n",
       "        <td>SensorCEOG, SensorDEOG</td>\n",
       "    </tr>\n",
       "    <tr>\n",
       "        <th>ECG channels</th>\n",
       "        <td>Not available</td>\n",
       "    \n",
       "    <tr>\n",
       "        <th>Sampling frequency</th>\n",
       "        <td>256.00 Hz</td>\n",
       "    </tr>\n",
       "    \n",
       "    \n",
       "    <tr>\n",
       "        <th>Highpass</th>\n",
       "        <td>1.00 Hz</td>\n",
       "    </tr>\n",
       "    \n",
       "    \n",
       "    <tr>\n",
       "        <th>Lowpass</th>\n",
       "        <td>40.00 Hz</td>\n",
       "    </tr>\n",
       "    \n",
       "    \n",
       "    \n",
       "    <tr>\n",
       "        <th>Duration</th>\n",
       "        <td>01:20:56 (HH:MM:SS)</td>\n",
       "    </tr>\n",
       "</table>"
      ],
      "text/plain": [
       "<RawArray | 23 x 1243136 (4856.0 s), ~218.2 MB, data loaded>"
      ]
     },
     "execution_count": 13,
     "metadata": {},
     "output_type": "execute_result"
    }
   ],
   "source": [
    "raw"
   ]
  },
  {
   "cell_type": "code",
   "execution_count": 8,
   "metadata": {},
   "outputs": [],
   "source": [
    "from mne import events_from_annotations, Epochs\n",
    "from mne.time_frequency import tfr_morlet\n",
    "\n",
    "events, _ = events_from_annotations(raw, regexp=\"Stimulus\")"
   ]
  },
  {
   "cell_type": "code",
   "execution_count": 11,
   "metadata": {},
   "outputs": [],
   "source": [
    "data, times = raw[:] "
   ]
  },
  {
   "cell_type": "code",
   "execution_count": 12,
   "metadata": {},
   "outputs": [
    {
     "data": {
      "text/plain": [
       "numpy.ndarray"
      ]
     },
     "execution_count": 12,
     "metadata": {},
     "output_type": "execute_result"
    }
   ],
   "source": [
    "data = np.array(data)\n",
    "type(data)"
   ]
  },
  {
   "cell_type": "code",
   "execution_count": 13,
   "metadata": {},
   "outputs": [
    {
     "data": {
      "text/plain": [
       "(23, 1243136)"
      ]
     },
     "execution_count": 13,
     "metadata": {},
     "output_type": "execute_result"
    }
   ],
   "source": [
    "data.shape"
   ]
  },
  {
   "cell_type": "code",
   "execution_count": 22,
   "metadata": {},
   "outputs": [
    {
     "data": {
      "text/plain": [
       "1243000"
      ]
     },
     "execution_count": 22,
     "metadata": {},
     "output_type": "execute_result"
    }
   ],
   "source": [
    "math.floor(data.shape[1]/250)*250"
   ]
  },
  {
   "cell_type": "code",
   "execution_count": 25,
   "metadata": {},
   "outputs": [],
   "source": [
    "import math \n",
    "new_data = data[0:23, 1: (math.floor(data.shape[1]/250)*250) + 1]"
   ]
  },
  {
   "cell_type": "code",
   "execution_count": 26,
   "metadata": {},
   "outputs": [
    {
     "data": {
      "text/plain": [
       "(23, 1243000)"
      ]
     },
     "execution_count": 26,
     "metadata": {},
     "output_type": "execute_result"
    }
   ],
   "source": [
    "new_data.shape"
   ]
  },
  {
   "cell_type": "code",
   "execution_count": 30,
   "metadata": {},
   "outputs": [],
   "source": [
    "stimulated_epochs = np.reshape(new_data, (250, 23,math.floor(new_data.shape[1]/250) ))"
   ]
  },
  {
   "cell_type": "code",
   "execution_count": 31,
   "metadata": {},
   "outputs": [
    {
     "data": {
      "text/plain": [
       "(250, 23, 4972)"
      ]
     },
     "execution_count": 31,
     "metadata": {},
     "output_type": "execute_result"
    }
   ],
   "source": [
    "stimulated_epochs.shape\n"
   ]
  },
  {
   "cell_type": "code",
   "execution_count": 32,
   "metadata": {},
   "outputs": [
    {
     "name": "stdout",
     "output_type": "stream",
     "text": [
      "Not setting metadata\n",
      "250 matching events found\n",
      "No baseline correction applied\n",
      "0 projection items activated\n"
     ]
    }
   ],
   "source": [
    "stimulated_epochs = mne.EpochsArray(stimulated_epochs, info)"
   ]
  },
  {
   "cell_type": "code",
   "execution_count": 1,
   "metadata": {},
   "outputs": [
    {
     "ename": "NameError",
     "evalue": "name 'stimulated_epochs' is not defined",
     "output_type": "error",
     "traceback": [
      "\u001b[1;31m---------------------------------------------------------------------------\u001b[0m",
      "\u001b[1;31mNameError\u001b[0m                                 Traceback (most recent call last)",
      "\u001b[1;32m~\\AppData\\Local\\Temp/ipykernel_12384/4190020390.py\u001b[0m in \u001b[0;36m<module>\u001b[1;34m\u001b[0m\n\u001b[1;32m----> 1\u001b[1;33m \u001b[0mstimulated_epochs\u001b[0m\u001b[1;33m\u001b[0m\u001b[1;33m\u001b[0m\u001b[0m\n\u001b[0m",
      "\u001b[1;31mNameError\u001b[0m: name 'stimulated_epochs' is not defined"
     ]
    }
   ],
   "source": [
    "stimulated_epochs"
   ]
  },
  {
   "cell_type": "code",
   "execution_count": 14,
   "metadata": {},
   "outputs": [
    {
     "name": "stdout",
     "output_type": "stream",
     "text": [
      "Not setting metadata\n",
      "971 matching events found\n",
      "No baseline correction applied\n",
      "0 projection items activated\n"
     ]
    },
    {
     "data": {
      "text/html": [
       "<table class=\"table table-hover table-striped table-sm table-responsive small\">\n",
       "    <tr>\n",
       "        <th>Number of events</th>\n",
       "        <td>971</td>\n",
       "    </tr>\n",
       "    <tr>\n",
       "        <th>Events</th>\n",
       "        \n",
       "        <td>1: 971</td>\n",
       "        \n",
       "    </tr>\n",
       "    <tr>\n",
       "        <th>Time range</th>\n",
       "        <td>0.000 – 4.996 s</td>\n",
       "    </tr>\n",
       "    <tr>\n",
       "        <th>Baseline</th>\n",
       "        <td>off</td>\n",
       "    </tr>\n",
       "</table>"
      ],
      "text/plain": [
       "<Epochs |  971 events (good & bad), 0 – 4.99609 s, baseline off, ~27 kB, data not loaded,\n",
       " '1': 971>"
      ]
     },
     "execution_count": 14,
     "metadata": {},
     "output_type": "execute_result"
    }
   ],
   "source": [
    "fixed_epochs = mne.make_fixed_length_epochs(raw, 5)\n",
    "fixed_epochs "
   ]
  },
  {
   "cell_type": "code",
   "execution_count": 28,
   "metadata": {},
   "outputs": [
    {
     "name": "stdout",
     "output_type": "stream",
     "text": [
      "Using data from preloaded Raw for 971 events and 1280 original time points ...\n"
     ]
    },
    {
     "name": "stderr",
     "output_type": "stream",
     "text": [
      "[Parallel(n_jobs=1)]: Using backend SequentialBackend with 1 concurrent workers.\n",
      "[Parallel(n_jobs=1)]: Done   1 out of   1 | elapsed:    7.7s remaining:    0.0s\n",
      "[Parallel(n_jobs=1)]: Done   2 out of   2 | elapsed:   15.5s remaining:    0.0s\n",
      "[Parallel(n_jobs=1)]: Done   2 out of   2 | elapsed:   15.8s finished\n"
     ]
    },
    {
     "name": "stdout",
     "output_type": "stream",
     "text": [
      "Not setting metadata\n",
      "(971, 2, 50, 1280)\n"
     ]
    }
   ],
   "source": [
    "from mne.time_frequency import tfr_morlet \n",
    "\n",
    "freqs = np.arange(5.,30.,step=0.5)\n",
    "n_cycles = 4.0\n",
    "tfr = tfr_morlet(fixed_epochs, freqs, n_cycles, return_itc=False, average=False, picks=[1,2])\n",
    "print(tfr.data.shape)"
   ]
  },
  {
   "cell_type": "code",
   "execution_count": 29,
   "metadata": {},
   "outputs": [
    {
     "data": {
      "text/plain": [
       "(971, 2, 50, 1280)"
      ]
     },
     "execution_count": 29,
     "metadata": {},
     "output_type": "execute_result"
    }
   ],
   "source": [
    "tfr.data.shape"
   ]
  },
  {
   "cell_type": "code",
   "execution_count": 91,
   "metadata": {},
   "outputs": [
    {
     "name": "stdout",
     "output_type": "stream",
     "text": [
      "Using data from preloaded Raw for 971 events and 1280 original time points ...\n",
      "Effective window size : 0.500 (s)\n"
     ]
    },
    {
     "name": "stderr",
     "output_type": "stream",
     "text": [
      "[Parallel(n_jobs=1)]: Using backend SequentialBackend with 1 concurrent workers.\n"
     ]
    },
    {
     "name": "stdout",
     "output_type": "stream",
     "text": [
      "[[[1.03776415e+03 8.34342641e+02 6.98203473e+02]\n",
      "  [8.92482610e+02 7.34391971e+02 6.07246376e+02]\n",
      "  [6.17047655e+02 5.29004301e+02 4.27562342e+02]\n",
      "  ...\n",
      "  [1.42024095e+01 1.59926662e+01 1.16152575e+01]\n",
      "  [2.81142466e+00 1.69264469e+00 2.69733936e+00]\n",
      "  [1.35324986e+00 8.40685413e-01 4.86619695e-01]]\n",
      "\n",
      " [[1.30009572e+00 4.09605911e-01 3.09252530e-01]\n",
      "  [1.01436428e+01 8.47200566e+00 5.11129502e+00]\n",
      "  [3.84084205e+00 2.11323684e-01 2.36818677e-01]\n",
      "  ...\n",
      "  [3.01487978e+00 2.49415649e+00 2.31510451e+00]\n",
      "  [2.37259913e+00 1.85874267e+00 1.57020950e+00]\n",
      "  [2.54431811e+00 1.18798561e+00 1.17823983e+00]]\n",
      "\n",
      " [[1.38946166e+00 1.79270685e-01 2.57958053e-01]\n",
      "  [1.49558357e+00 5.88529876e-01 6.92528693e-01]\n",
      "  [3.73065489e+00 3.64183181e-01 2.39309448e-01]\n",
      "  ...\n",
      "  [1.25071429e+00 9.71245626e-01 4.23749311e-01]\n",
      "  [1.55413416e+00 1.30750702e+00 1.56487302e+00]\n",
      "  [2.62879306e+00 1.96184284e+00 9.20649865e-01]]\n",
      "\n",
      " ...\n",
      "\n",
      " [[7.20107687e-01 2.57010407e-01 1.90233859e-01]\n",
      "  [9.42846968e-01 3.54503514e-01 2.87442141e-01]\n",
      "  [2.53340837e+00 2.39179287e-01 1.49058399e-01]\n",
      "  ...\n",
      "  [2.87968391e+00 7.38512504e-01 6.16889097e-01]\n",
      "  [8.16028848e-01 6.85389376e-01 7.49995460e-01]\n",
      "  [1.99818940e+00 1.54222610e+00 9.05895933e-01]]\n",
      "\n",
      " [[1.28219217e+00 6.97361336e-02 1.34743655e-01]\n",
      "  [6.57088891e-01 2.55298837e-01 1.49121832e-01]\n",
      "  [1.80496547e+00 1.48601241e-01 1.06034310e-01]\n",
      "  ...\n",
      "  [2.08609905e+00 5.03592902e-01 3.25470447e-01]\n",
      "  [1.17994235e+00 1.09841226e+00 7.07407970e-01]\n",
      "  [1.37323674e+00 1.34031942e+00 1.71464849e+00]]\n",
      "\n",
      " [[1.39397813e+00 1.97505166e-01 2.45940589e-01]\n",
      "  [8.75491701e-01 3.53652561e-01 3.65121439e-01]\n",
      "  [1.67647278e+00 1.06572120e-01 1.22872972e-01]\n",
      "  ...\n",
      "  [2.64553417e+00 4.02892239e-01 5.28397306e-01]\n",
      "  [3.00865867e+00 1.00518985e+00 2.10349456e+00]\n",
      "  [2.24628409e+00 2.12062774e+00 9.90494126e-01]]]\n",
      "[ 8. 10. 12.]\n"
     ]
    },
    {
     "name": "stderr",
     "output_type": "stream",
     "text": [
      "[Parallel(n_jobs=1)]: Done   1 out of   1 | elapsed:    8.2s remaining:    0.0s\n",
      "[Parallel(n_jobs=1)]: Done   1 out of   1 | elapsed:    8.2s finished\n"
     ]
    }
   ],
   "source": [
    "psds,frequencies = mne.time_frequency.psd_array_welch(fixed_epochs.get_data(), fmin = 8, fmax = 12, n_fft=128, n_overlap=0, n_per_seg=None, average='mean', window='hamming', verbose=None, sfreq=256) # alpha band as from 8 to 12\n",
    "\n",
    "print(psds)\n",
    "print(frequencies)"
   ]
  },
  {
   "cell_type": "code",
   "execution_count": 92,
   "metadata": {},
   "outputs": [],
   "source": [
    "a_mean = np.array(psds)"
   ]
  },
  {
   "cell_type": "code",
   "execution_count": 93,
   "metadata": {},
   "outputs": [
    {
     "data": {
      "text/plain": [
       "(971, 23, 3)"
      ]
     },
     "execution_count": 93,
     "metadata": {},
     "output_type": "execute_result"
    }
   ],
   "source": [
    "a_mean.shape"
   ]
  },
  {
   "cell_type": "code",
   "execution_count": 56,
   "metadata": {},
   "outputs": [
    {
     "data": {
      "text/plain": [
       "2"
      ]
     },
     "execution_count": 56,
     "metadata": {},
     "output_type": "execute_result"
    }
   ],
   "source": [
    "count"
   ]
  },
  {
   "cell_type": "code",
   "execution_count": null,
   "metadata": {},
   "outputs": [],
   "source": []
  }
 ],
 "metadata": {
  "kernelspec": {
   "display_name": "Python 3",
   "language": "python",
   "name": "python3"
  },
  "language_info": {
   "codemirror_mode": {
    "name": "ipython",
    "version": 3
   },
   "file_extension": ".py",
   "mimetype": "text/x-python",
   "name": "python",
   "nbconvert_exporter": "python",
   "pygments_lexer": "ipython3",
   "version": "3.10.0"
  },
  "orig_nbformat": 4
 },
 "nbformat": 4,
 "nbformat_minor": 2
}
